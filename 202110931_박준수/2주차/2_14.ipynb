{
  "nbformat": 4,
  "nbformat_minor": 0,
  "metadata": {
    "colab": {
      "provenance": [],
      "authorship_tag": "ABX9TyO6i93bXTEve3CPNgwv6vPO",
      "include_colab_link": true
    },
    "kernelspec": {
      "name": "python3",
      "display_name": "Python 3"
    },
    "language_info": {
      "name": "python"
    }
  },
  "cells": [
    {
      "cell_type": "markdown",
      "metadata": {
        "id": "view-in-github",
        "colab_type": "text"
      },
      "source": [
        "<a href=\"https://colab.research.google.com/github/junsoo321/public-repository/blob/main/2_14.ipynb\" target=\"_parent\"><img src=\"https://colab.research.google.com/assets/colab-badge.svg\" alt=\"Open In Colab\"/></a>"
      ]
    },
    {
      "cell_type": "code",
      "execution_count": 2,
      "metadata": {
        "colab": {
          "base_uri": "https://localhost:8080/"
        },
        "id": "Jl74PKf2nM0n",
        "outputId": "2787dbe3-f344-4812-aa5b-6bcf984b520c"
      },
      "outputs": [
        {
          "output_type": "stream",
          "name": "stdout",
          "text": [
            "8\n",
            "\n",
            "\n",
            "\n",
            "2.23606797749979\n",
            "2.23606797749979\n",
            "\n",
            "\n",
            "\n",
            "9\n",
            "9.0\n"
          ]
        }
      ],
      "source": [
        "import numpy as np\n",
        "a=np.array([1,2])\n",
        "b=np.array([2,3])\n",
        "print(np.dot(a,b))\n",
        "\n",
        "print('\\n\\n')\n",
        "\n",
        "a=np.array([1,2])\n",
        "print(np.linalg.norm(a))\n",
        "print(np.sqrt(5))\n",
        "\n",
        "print('\\n\\n')\n",
        "\n",
        "a=np.array([3,3])\n",
        "b=np.array([3,0])\n",
        "\n",
        "print(np.dot(a,b))\n",
        "norm_a=np.linalg.norm(a)\n",
        "norm_b=np.linalg.norm(b)\n",
        "print(norm_a*norm_b*np.cos(45*np.pi/180))"
      ]
    }
  ]
}
