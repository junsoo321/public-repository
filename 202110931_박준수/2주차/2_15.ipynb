{
  "nbformat": 4,
  "nbformat_minor": 0,
  "metadata": {
    "colab": {
      "provenance": [],
      "authorship_tag": "ABX9TyORza382yb6I3qd8MTxtXq9",
      "include_colab_link": true
    },
    "kernelspec": {
      "name": "python3",
      "display_name": "Python 3"
    },
    "language_info": {
      "name": "python"
    }
  },
  "cells": [
    {
      "cell_type": "markdown",
      "metadata": {
        "id": "view-in-github",
        "colab_type": "text"
      },
      "source": [
        "<a href=\"https://colab.research.google.com/github/junsoo321/public-repository/blob/main/2_15.ipynb\" target=\"_parent\"><img src=\"https://colab.research.google.com/assets/colab-badge.svg\" alt=\"Open In Colab\"/></a>"
      ]
    },
    {
      "cell_type": "code",
      "execution_count": null,
      "metadata": {
        "id": "PmPsrfgApcjV"
      },
      "outputs": [],
      "source": [
        "import numpy as np\n",
        "import matplot.pyplot as plt\n",
        "from mpl_toolkits.mplot3d import Axes 3D\n",
        "a=np.array([5,3,0])\n",
        "b=np.array([1,2,0])\n",
        "c=np.cross(a,b)\n",
        "fig=plt.figure()\n",
        "ax=fig.add_subplot(1,1,1,projection='3d')\n",
        "\n",
        "ax.quiver(0,0,0,a[0],a[1],a[2],color='black',arrow_length_ratio=0.1)\n",
        "ax.text(a[0],a[1],a[2],'a',size=15)\n",
        "\n",
        "ax.quiver(0,0,0,b[0],b[1],b[2],color='red',arrow_length_ratio=0.1)\n",
        "ax.text(b[0],b[1],b[2],'b',size=15)\n",
        "\n",
        "ax.quiver(0,0,0,c[0],c[1],c[2],color='blue',arrow_length_ratio=0.1)\n",
        "ax.text(c[0],c[1],c[2],'c',size=15)\n",
        "\n",
        "ax.set_xlim(0,8)\n",
        "ax.set_ylim(0,8)\n",
        "ax.set_zlim(0,8)\n",
        "ax.set_xlabel('X')\n",
        "ax.set_ylabel('Y')\n",
        "ax.set_zlabel('Z')\n",
        "ax.view_init(elev=20,azim=5)\n",
        "ax.grid()\n",
        "ax.set_axisbelow(True)\n",
        "ax.set_aspect('auto',adjustable='box')\n",
        "plt.show()"
      ]
    }
  ]
}
