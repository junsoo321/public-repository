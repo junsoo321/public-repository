{
  "nbformat": 4,
  "nbformat_minor": 0,
  "metadata": {
    "colab": {
      "provenance": [],
      "authorship_tag": "ABX9TyOA0JatP/TAWtNiF6Hz2/Le",
      "include_colab_link": true
    },
    "kernelspec": {
      "name": "python3",
      "display_name": "Python 3"
    },
    "language_info": {
      "name": "python"
    }
  },
  "cells": [
    {
      "cell_type": "markdown",
      "metadata": {
        "id": "view-in-github",
        "colab_type": "text"
      },
      "source": [
        "<a href=\"https://colab.research.google.com/github/junsoo321/public-repository/blob/main/image(online).ipynb\" target=\"_parent\"><img src=\"https://colab.research.google.com/assets/colab-badge.svg\" alt=\"Open In Colab\"/></a>"
      ]
    },
    {
      "cell_type": "code",
      "execution_count": null,
      "metadata": {
        "id": "NvmThoZ7tvux"
      },
      "outputs": [],
      "source": [
        "from google.colab import drive\n",
        "drive.mount('/content/drive')\n",
        "import os\n",
        "import glob\n",
        "\n",
        "import cv2\n",
        "import numpy as np\n",
        "from google.colab.patches import cv2_imshow\n",
        "img=cv2.imread('/content/drive/MyDrive/crop/다운로드.jpeg',cv2.IMREAD_COLOR)\n",
        "height, width=img.shape[:2]\n",
        "M=np.array([[1,0,100],[0,1,200]],dtype=float)\n",
        "dst=cv2.warpAffine(img,M,(width,height))\n",
        "result=cv2.hconcat([img,dst])\n",
        "cv2.imshow(\"result\",result)\n",
        "cv2.waitKey(0)"
      ]
    },
    {
      "cell_type": "markdown",
      "source": [
        "https://drive.google.com/uc?id=1-YJ1RdRehY1IZ86UvUg7Fg5WV9tjIPyF"
      ],
      "metadata": {
        "id": "EEmy4B4yuxuw"
      }
    }
  ]
}